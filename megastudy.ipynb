{
 "cells": [
  {
   "cell_type": "markdown",
   "metadata": {},
   "source": [
    "- Chat GPT를 활용하여 생성한 데이터를 전처리하여 MySQL에 적재"
   ]
  },
  {
   "cell_type": "code",
   "execution_count": 2,
   "metadata": {},
   "outputs": [
    {
     "name": "stdout",
     "output_type": "stream",
     "text": [
      "   수험번호 선택과목  문제번호  대분류      중분류          소분류  학생이 쓴 답  정답  배점\n",
      "0     1   공통     1  수학Ⅰ   지수와 로그    로그 함수의 성질        4   4   2\n",
      "1     1   공통     2  수학Ⅱ   함수의 극한   함수의 극한값 계산        1   1   2\n",
      "2     1   공통     3  수학Ⅰ     삼각함수     삼각함수의 성질        2   2   2\n",
      "3     1   공통     4  수학Ⅱ  함수의 연속성  연속의 개념 및 조건        1   1   3\n",
      "4     1   공통     5  수학Ⅰ       수열    등차수열의 일반항        3   3   3\n"
     ]
    }
   ],
   "source": [
    "import pandas as pd\n",
    "import os\n",
    "\n",
    "# 현재 노트북 파일이 있는 디렉토리 기준으로 dataset 폴더 내의 csv 파일 불러오기\n",
    "notebook_dir = os.path.dirname(os.path.abspath(\"__file__\"))  # 현재 작업 디렉토리 가져오기\n",
    "csv_path = os.path.join(notebook_dir, \"dataset\", \"2023_9월모평_분류적용.csv\")  # 파일 경로 설정\n",
    "\n",
    "# CSV 파일 로드\n",
    "suneung_df = pd.read_csv(csv_path)\n",
    "\n",
    "# 데이터 확인\n",
    "print(suneung_df.head())"
   ]
  },
  {
   "cell_type": "code",
   "execution_count": 7,
   "metadata": {},
   "outputs": [
    {
     "data": {
      "text/html": [
       "<div>\n",
       "<style scoped>\n",
       "    .dataframe tbody tr th:only-of-type {\n",
       "        vertical-align: middle;\n",
       "    }\n",
       "\n",
       "    .dataframe tbody tr th {\n",
       "        vertical-align: top;\n",
       "    }\n",
       "\n",
       "    .dataframe thead th {\n",
       "        text-align: right;\n",
       "    }\n",
       "</style>\n",
       "<table border=\"1\" class=\"dataframe\">\n",
       "  <thead>\n",
       "    <tr style=\"text-align: right;\">\n",
       "      <th></th>\n",
       "      <th>수험번호</th>\n",
       "      <th>선택과목</th>\n",
       "      <th>문제번호</th>\n",
       "      <th>대분류</th>\n",
       "      <th>중분류</th>\n",
       "      <th>소분류</th>\n",
       "      <th>학생이 쓴 답</th>\n",
       "      <th>정답</th>\n",
       "      <th>배점</th>\n",
       "    </tr>\n",
       "  </thead>\n",
       "  <tbody>\n",
       "    <tr>\n",
       "      <th>0</th>\n",
       "      <td>1</td>\n",
       "      <td>공통</td>\n",
       "      <td>1</td>\n",
       "      <td>수학Ⅰ</td>\n",
       "      <td>지수와 로그</td>\n",
       "      <td>로그 함수의 성질</td>\n",
       "      <td>4</td>\n",
       "      <td>4</td>\n",
       "      <td>2</td>\n",
       "    </tr>\n",
       "    <tr>\n",
       "      <th>1</th>\n",
       "      <td>1</td>\n",
       "      <td>공통</td>\n",
       "      <td>2</td>\n",
       "      <td>수학Ⅱ</td>\n",
       "      <td>함수의 극한</td>\n",
       "      <td>함수의 극한값 계산</td>\n",
       "      <td>1</td>\n",
       "      <td>1</td>\n",
       "      <td>2</td>\n",
       "    </tr>\n",
       "    <tr>\n",
       "      <th>2</th>\n",
       "      <td>1</td>\n",
       "      <td>공통</td>\n",
       "      <td>3</td>\n",
       "      <td>수학Ⅰ</td>\n",
       "      <td>삼각함수</td>\n",
       "      <td>삼각함수의 성질</td>\n",
       "      <td>2</td>\n",
       "      <td>2</td>\n",
       "      <td>2</td>\n",
       "    </tr>\n",
       "    <tr>\n",
       "      <th>3</th>\n",
       "      <td>1</td>\n",
       "      <td>공통</td>\n",
       "      <td>4</td>\n",
       "      <td>수학Ⅱ</td>\n",
       "      <td>함수의 연속성</td>\n",
       "      <td>연속의 개념 및 조건</td>\n",
       "      <td>1</td>\n",
       "      <td>1</td>\n",
       "      <td>3</td>\n",
       "    </tr>\n",
       "    <tr>\n",
       "      <th>4</th>\n",
       "      <td>1</td>\n",
       "      <td>공통</td>\n",
       "      <td>5</td>\n",
       "      <td>수학Ⅰ</td>\n",
       "      <td>수열</td>\n",
       "      <td>등차수열의 일반항</td>\n",
       "      <td>3</td>\n",
       "      <td>3</td>\n",
       "      <td>3</td>\n",
       "    </tr>\n",
       "  </tbody>\n",
       "</table>\n",
       "</div>"
      ],
      "text/plain": [
       "   수험번호 선택과목  문제번호  대분류      중분류          소분류  학생이 쓴 답  정답  배점\n",
       "0     1   공통     1  수학Ⅰ   지수와 로그    로그 함수의 성질        4   4   2\n",
       "1     1   공통     2  수학Ⅱ   함수의 극한   함수의 극한값 계산        1   1   2\n",
       "2     1   공통     3  수학Ⅰ     삼각함수     삼각함수의 성질        2   2   2\n",
       "3     1   공통     4  수학Ⅱ  함수의 연속성  연속의 개념 및 조건        1   1   3\n",
       "4     1   공통     5  수학Ⅰ       수열    등차수열의 일반항        3   3   3"
      ]
     },
     "execution_count": 7,
     "metadata": {},
     "output_type": "execute_result"
    }
   ],
   "source": [
    "suneung_df.head(5)"
   ]
  },
  {
   "cell_type": "code",
   "execution_count": null,
   "metadata": {},
   "outputs": [],
   "source": [
    "# 23번 이후 문항의 선택과목을 가져와서 1~22번 문항의 \"공통\"을 해당 선택과목으로 변경\n",
    "mask = suneung_df[\"문제번호\"] <= 22\n",
    "selected_subject = suneung_df.loc[~mask, [\"수험번호\", \"선택과목\"]].drop_duplicates()\n",
    "\n",
    "# 수험번호 기준으로 선택과목 매핑\n",
    "suneung_df.loc[mask, \"선택과목\"] = suneung_df.loc[mask, \"수험번호\"].map(selected_subject.set_index(\"수험번호\")[\"선택과목\"])\n",
    "\n",
    "# 결과 출력\n",
    "print(suneung_df.head(30))"
   ]
  },
  {
   "cell_type": "code",
   "execution_count": 4,
   "metadata": {},
   "outputs": [],
   "source": [
    "# 수험번호를 좀 더 현실감 있게 바꾸기 위해 20220000을 더함\n",
    "suneung_df[\"수험번호\"] = suneung_df[\"수험번호\"] + 20220000"
   ]
  },
  {
   "cell_type": "code",
   "execution_count": 5,
   "metadata": {},
   "outputs": [
    {
     "data": {
      "text/html": [
       "<div>\n",
       "<style scoped>\n",
       "    .dataframe tbody tr th:only-of-type {\n",
       "        vertical-align: middle;\n",
       "    }\n",
       "\n",
       "    .dataframe tbody tr th {\n",
       "        vertical-align: top;\n",
       "    }\n",
       "\n",
       "    .dataframe thead th {\n",
       "        text-align: right;\n",
       "    }\n",
       "</style>\n",
       "<table border=\"1\" class=\"dataframe\">\n",
       "  <thead>\n",
       "    <tr style=\"text-align: right;\">\n",
       "      <th></th>\n",
       "      <th>수험번호</th>\n",
       "      <th>선택과목</th>\n",
       "      <th>문제번호</th>\n",
       "      <th>대분류</th>\n",
       "      <th>중분류</th>\n",
       "      <th>소분류</th>\n",
       "      <th>학생이 쓴 답</th>\n",
       "      <th>정답</th>\n",
       "      <th>배점</th>\n",
       "    </tr>\n",
       "  </thead>\n",
       "  <tbody>\n",
       "    <tr>\n",
       "      <th>0</th>\n",
       "      <td>20220001</td>\n",
       "      <td>미적분</td>\n",
       "      <td>1</td>\n",
       "      <td>수학Ⅰ</td>\n",
       "      <td>지수와 로그</td>\n",
       "      <td>로그 함수의 성질</td>\n",
       "      <td>4</td>\n",
       "      <td>4</td>\n",
       "      <td>2</td>\n",
       "    </tr>\n",
       "    <tr>\n",
       "      <th>1</th>\n",
       "      <td>20220001</td>\n",
       "      <td>미적분</td>\n",
       "      <td>2</td>\n",
       "      <td>수학Ⅱ</td>\n",
       "      <td>함수의 극한</td>\n",
       "      <td>함수의 극한값 계산</td>\n",
       "      <td>1</td>\n",
       "      <td>1</td>\n",
       "      <td>2</td>\n",
       "    </tr>\n",
       "    <tr>\n",
       "      <th>2</th>\n",
       "      <td>20220001</td>\n",
       "      <td>미적분</td>\n",
       "      <td>3</td>\n",
       "      <td>수학Ⅰ</td>\n",
       "      <td>삼각함수</td>\n",
       "      <td>삼각함수의 성질</td>\n",
       "      <td>2</td>\n",
       "      <td>2</td>\n",
       "      <td>2</td>\n",
       "    </tr>\n",
       "    <tr>\n",
       "      <th>3</th>\n",
       "      <td>20220001</td>\n",
       "      <td>미적분</td>\n",
       "      <td>4</td>\n",
       "      <td>수학Ⅱ</td>\n",
       "      <td>함수의 연속성</td>\n",
       "      <td>연속의 개념 및 조건</td>\n",
       "      <td>1</td>\n",
       "      <td>1</td>\n",
       "      <td>3</td>\n",
       "    </tr>\n",
       "    <tr>\n",
       "      <th>4</th>\n",
       "      <td>20220001</td>\n",
       "      <td>미적분</td>\n",
       "      <td>5</td>\n",
       "      <td>수학Ⅰ</td>\n",
       "      <td>수열</td>\n",
       "      <td>등차수열의 일반항</td>\n",
       "      <td>3</td>\n",
       "      <td>3</td>\n",
       "      <td>3</td>\n",
       "    </tr>\n",
       "  </tbody>\n",
       "</table>\n",
       "</div>"
      ],
      "text/plain": [
       "       수험번호 선택과목  문제번호  대분류      중분류          소분류  학생이 쓴 답  정답  배점\n",
       "0  20220001  미적분     1  수학Ⅰ   지수와 로그    로그 함수의 성질        4   4   2\n",
       "1  20220001  미적분     2  수학Ⅱ   함수의 극한   함수의 극한값 계산        1   1   2\n",
       "2  20220001  미적분     3  수학Ⅰ     삼각함수     삼각함수의 성질        2   2   2\n",
       "3  20220001  미적분     4  수학Ⅱ  함수의 연속성  연속의 개념 및 조건        1   1   3\n",
       "4  20220001  미적분     5  수학Ⅰ       수열    등차수열의 일반항        3   3   3"
      ]
     },
     "execution_count": 5,
     "metadata": {},
     "output_type": "execute_result"
    }
   ],
   "source": [
    "# 결과 확인\n",
    "suneung_df.head(5)"
   ]
  },
  {
   "cell_type": "code",
   "execution_count": 6,
   "metadata": {},
   "outputs": [
    {
     "data": {
      "text/plain": [
       "['수험번호', '선택과목', '문제번호', '대분류', '중분류', '소분류', '학생이 쓴 답', '정답', '배점']"
      ]
     },
     "execution_count": 6,
     "metadata": {},
     "output_type": "execute_result"
    }
   ],
   "source": [
    "suneung_df.columns.tolist()"
   ]
  },
  {
   "cell_type": "code",
   "execution_count": 3,
   "metadata": {},
   "outputs": [],
   "source": [
    "import random\n",
    "\n",
    "# 한국에서 흔한 성씨 리스트\n",
    "surnames = [\"김\", \"이\", \"박\", \"최\", \"정\", \"강\", \"조\", \"윤\", \"장\", \"임\", \"한\", \"오\", \"신\", \"서\", \"권\", \"황\", \"안\", \"송\", \"홍\", \"유\"]  # 20개\n",
    "# 흔한 이름 리스트 (중복 방지를 위해 다양한 조합 생성)\n",
    "first_names = [\"민수\", \"지훈\", \"서연\", \"현우\", \"지수\", \"영희\", \"철수\", \"하늘\", \"나래\", \"도현\", \"유진\", \"태희\", \"승현\", \"지안\", \"은우\", \"민지\", \"예준\", \"수빈\", \"도윤\", \"서현\"]  # 20개\n",
    "\n",
    "# 중복 방지를 위한 이름 조합 생성\n",
    "def generate_unique_names(surnames, first_names, count):\n",
    "    name_list = []\n",
    "    while len(name_list) < count:\n",
    "        name = random.choice(surnames) + random.choice(first_names)\n",
    "        if name not in name_list:\n",
    "            name_list.append(name)\n",
    "    return sorted(name_list)  # 가나다순 정렬\n",
    "\n",
    "# 수험번호 생성\n",
    "exam_numbers = list(range(20220001, 20220301))  # 300개 생성\n",
    "names = generate_unique_names(surnames, first_names, len(exam_numbers))\n",
    "\n",
    "# 데이터프레임 생성\n",
    "student_data = pd.DataFrame({\"수험번호\": exam_numbers, \"이름\": names})"
   ]
  },
  {
   "cell_type": "code",
   "execution_count": 4,
   "metadata": {},
   "outputs": [
    {
     "data": {
      "text/html": [
       "<div>\n",
       "<style scoped>\n",
       "    .dataframe tbody tr th:only-of-type {\n",
       "        vertical-align: middle;\n",
       "    }\n",
       "\n",
       "    .dataframe tbody tr th {\n",
       "        vertical-align: top;\n",
       "    }\n",
       "\n",
       "    .dataframe thead th {\n",
       "        text-align: right;\n",
       "    }\n",
       "</style>\n",
       "<table border=\"1\" class=\"dataframe\">\n",
       "  <thead>\n",
       "    <tr style=\"text-align: right;\">\n",
       "      <th></th>\n",
       "      <th>수험번호</th>\n",
       "      <th>이름</th>\n",
       "    </tr>\n",
       "  </thead>\n",
       "  <tbody>\n",
       "    <tr>\n",
       "      <th>0</th>\n",
       "      <td>20220001</td>\n",
       "      <td>강나래</td>\n",
       "    </tr>\n",
       "    <tr>\n",
       "      <th>1</th>\n",
       "      <td>20220002</td>\n",
       "      <td>강도윤</td>\n",
       "    </tr>\n",
       "    <tr>\n",
       "      <th>2</th>\n",
       "      <td>20220003</td>\n",
       "      <td>강도현</td>\n",
       "    </tr>\n",
       "    <tr>\n",
       "      <th>3</th>\n",
       "      <td>20220004</td>\n",
       "      <td>강민수</td>\n",
       "    </tr>\n",
       "    <tr>\n",
       "      <th>4</th>\n",
       "      <td>20220005</td>\n",
       "      <td>강민지</td>\n",
       "    </tr>\n",
       "  </tbody>\n",
       "</table>\n",
       "</div>"
      ],
      "text/plain": [
       "       수험번호   이름\n",
       "0  20220001  강나래\n",
       "1  20220002  강도윤\n",
       "2  20220003  강도현\n",
       "3  20220004  강민수\n",
       "4  20220005  강민지"
      ]
     },
     "execution_count": 4,
     "metadata": {},
     "output_type": "execute_result"
    }
   ],
   "source": [
    "# 결과 확인\n",
    "student_data.head()"
   ]
  },
  {
   "cell_type": "code",
   "execution_count": 11,
   "metadata": {},
   "outputs": [
    {
     "data": {
      "text/plain": [
       "['수험번호', '이름']"
      ]
     },
     "execution_count": 11,
     "metadata": {},
     "output_type": "execute_result"
    }
   ],
   "source": [
    "student_data.columns.tolist()"
   ]
  },
  {
   "cell_type": "code",
   "execution_count": 2,
   "metadata": {},
   "outputs": [
    {
     "name": "stdout",
     "output_type": "stream",
     "text": [
      "MySQL 연결 성공!\n"
     ]
    }
   ],
   "source": [
    "import mysql.connector\n",
    "\n",
    "# MySQL 연결 정보\n",
    "host = \"127.0.0.1\"  # MySQL 서버 주소 (예: \"your-server.com\" 또는 \"IP 주소\")\n",
    "user = \"root\"  # MySQL 사용자명\n",
    "password = \"9703\"  # MySQL 비밀번호\n",
    "database = \"megastudy\"  # 사용할 데이터베이스 이름\n",
    "\n",
    "try:\n",
    "    conn = mysql.connector.connect(\n",
    "        host=host,\n",
    "        user=user,\n",
    "        password=password,\n",
    "        database=database\n",
    "    )\n",
    "    cursor = conn.cursor()\n",
    "    print(\"MySQL 연결 성공!\")\n",
    "except mysql.connector.Error as err:\n",
    "    print(f\"MySQL 연결 실패: {err}\")"
   ]
  },
  {
   "cell_type": "code",
   "execution_count": 7,
   "metadata": {},
   "outputs": [
    {
     "name": "stdout",
     "output_type": "stream",
     "text": [
      "'suneung_results' 테이블에 데이터 저장 완료!\n"
     ]
    }
   ],
   "source": [
    "from sqlalchemy import create_engine\n",
    "\n",
    "# MySQL 연결 정보\n",
    "host = \"127.0.0.1\"\n",
    "user = \"root\"\n",
    "password = \"9703\"\n",
    "database = \"megastudy\"\n",
    "\n",
    "# SQLAlchemy를 사용하여 MySQL 연결 엔진 생성\n",
    "engine = create_engine(f\"mysql+mysqlconnector://{user}:{password}@{host}/{database}\")\n",
    "\n",
    "# 데이터프레임을 MySQL 테이블로 저장\n",
    "table_name = \"suneung_results\"  # 저장할 테이블 이름\n",
    "\n",
    "try:\n",
    "    suneung_df.to_sql(name=table_name, con=engine, if_exists='replace', index=False)\n",
    "    print(f\"'{table_name}' 테이블에 데이터 저장 완료!\")\n",
    "except Exception as e:\n",
    "    print(f\"데이터 저장 실패: {e}\")"
   ]
  },
  {
   "cell_type": "code",
   "execution_count": 12,
   "metadata": {},
   "outputs": [
    {
     "name": "stdout",
     "output_type": "stream",
     "text": [
      "'student_info' 테이블에 데이터 저장 완료!\n"
     ]
    }
   ],
   "source": [
    "# MySQL 연결 정보\n",
    "host = \"127.0.0.1\"\n",
    "user = \"root\"\n",
    "password = \"9703\"\n",
    "database = \"megastudy\"\n",
    "\n",
    "# SQLAlchemy를 사용하여 MySQL 연결 엔진 생성\n",
    "engine = create_engine(f\"mysql+mysqlconnector://{user}:{password}@{host}/{database}\")\n",
    "\n",
    "# 데이터프레임을 MySQL 테이블로 저장\n",
    "table_name = \"student_info\"  # 저장할 테이블 이름\n",
    "\n",
    "try:\n",
    "    student_data.to_sql(name=table_name, con=engine, if_exists='replace', index=False)\n",
    "    print(f\"'{table_name}' 테이블에 데이터 저장 완료!\")\n",
    "except Exception as e:\n",
    "    print(f\"데이터 저장 실패: {e}\")"
   ]
  }
 ],
 "metadata": {
  "kernelspec": {
   "display_name": "fastapi",
   "language": "python",
   "name": "python3"
  },
  "language_info": {
   "codemirror_mode": {
    "name": "ipython",
    "version": 3
   },
   "file_extension": ".py",
   "mimetype": "text/x-python",
   "name": "python",
   "nbconvert_exporter": "python",
   "pygments_lexer": "ipython3",
   "version": "3.11.10"
  }
 },
 "nbformat": 4,
 "nbformat_minor": 2
}
